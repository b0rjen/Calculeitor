{
 "cells": [
  {
   "cell_type": "markdown",
   "metadata": {},
   "source": [
    "Para esta UI vamos a utilizar la librería KIVY.  \n",
    "\n",
    "Más información: https://kivy.org/\n"
   ]
  },
  {
   "cell_type": "code",
   "execution_count": 2,
   "metadata": {},
   "outputs": [
    {
     "name": "stderr",
     "output_type": "stream",
     "text": [
      "[INFO   ] [deps        ] Successfully imported \"kivy_deps.angle\" 0.4.0\n",
      "[INFO   ] [deps        ] Successfully imported \"kivy_deps.glew\" 0.3.1\n",
      "[INFO   ] [deps        ] Successfully imported \"kivy_deps.sdl2\" 0.7.0\n",
      "[INFO   ] [Kivy        ] v2.3.0\n",
      "[INFO   ] [Kivy        ] Installed at \"c:\\Users\\Borja BOOTCAMP\\onedrive\\VIRTUAL_ENVS\\lab_env\\lib\\site-packages\\kivy\\__init__.py\"\n",
      "[INFO   ] [Python      ] v3.9.13 (tags/v3.9.13:6de2ca5, May 17 2022, 16:36:42) [MSC v.1929 64 bit (AMD64)]\n",
      "[INFO   ] [Python      ] Interpreter at \"c:\\Users\\Borja BOOTCAMP\\onedrive\\VIRTUAL_ENVS\\lab_env\\Scripts\\python.exe\"\n",
      "[INFO   ] [Logger      ] Purge log fired. Processing...\n",
      "[INFO   ] [Logger      ] Purge finished!\n",
      "[INFO   ] [Factory     ] 195 symbols loaded\n",
      "[INFO   ] [Image       ] Providers: img_tex, img_dds, img_sdl2, img_pil (img_ffpyplayer ignored)\n",
      "[INFO   ] [Text        ] Provider: sdl2\n",
      "[INFO   ] [Window      ] Provider: sdl2\n",
      "[INFO   ] [GL          ] Using the \"OpenGL\" graphics system\n",
      "[INFO   ] [GL          ] GLEW initialization succeeded\n",
      "[INFO   ] [GL          ] Backend used <glew>\n",
      "[INFO   ] [GL          ] OpenGL version <b'4.6.0 - Build 31.0.101.2111'>\n",
      "[INFO   ] [GL          ] OpenGL vendor <b'Intel'>\n",
      "[INFO   ] [GL          ] OpenGL renderer <b'Intel(R) HD Graphics 530'>\n",
      "[INFO   ] [GL          ] OpenGL parsed version: 4, 6\n",
      "[INFO   ] [GL          ] Shading version <b'4.60 - Build 31.0.101.2111'>\n",
      "[INFO   ] [GL          ] Texture max size <16384>\n",
      "[INFO   ] [GL          ] Texture max units <32>\n",
      "[INFO   ] [Window      ] auto add sdl2 input provider\n",
      "[INFO   ] [Window      ] virtual keyboard not allowed, single mode, not docked\n"
     ]
    }
   ],
   "source": [
    "from kivy.app import App #importamos la clase App de la libreria kivy    \n",
    "from kivy.uix.gridlayout import GridLayout #importamos la clase GridLayout de la libreria kivy\n",
    "from kivy.uix.button import Button #importamos la clase Button\n",
    "from kivy.uix.textinput import TextInput #importamos la clase TextInput\n",
    "import math #importamos la libreria math para poder usar la funcion sqrt (raiz cuadrada) y alguna más"
   ]
  },
  {
   "cell_type": "code",
   "execution_count": 3,
   "metadata": {},
   "outputs": [
    {
     "ename": "",
     "evalue": "",
     "output_type": "error",
     "traceback": [
      "\u001b[1;31mEl kernel se bloqueó al ejecutar código en la celda actual o en una celda anterior. \n",
      "\u001b[1;31mRevise el código de las celdas para identificar una posible causa del error. \n",
      "\u001b[1;31mHaga clic <a href='https://aka.ms/vscodeJupyterKernelCrash'>aquí</a> para obtener más información. \n",
      "\u001b[1;31mVea Jupyter <a href='command:jupyter.viewOutput'>log</a> para obtener más detalles."
     ]
    }
   ],
   "source": [
    "class CalculatorApp(App):                   #creamos la clase CalculatorApp que hereda de la clase App\n",
    "    def build(self):                        #creamos el metodo build que devuelve el layout de la calculadora        \n",
    "        self.operators = [\"+\", \"-\", \"*\", \"/\", \"^\", \"%\"] #creamos una lista con los operadores que vamos a usar\n",
    "        self.specials = [\"C\", \"√\", \"sin\", \"cos\", \"tan\", \"=\"] #creamos una lista con los botones especiales que vamos a usar\n",
    "        self.last_was_operator = None #creamos una variable que nos va a indicar si el último boton pulsado fue un operador\n",
    "        self.last_button = None #creamos una variable que nos va a indicar cual fue el último boton pulsado\n",
    "        self.solution = TextInput(font_size=72, readonly=True, halign=\"right\", multiline=False, size_hint=(1, None), height=120) #creamos un objeto de la clase TextInput que va a ser el RESULTADO DE LA OPERACIÓN\t\n",
    "        self.current_input = TextInput(font_size=32, readonly=True, halign=\"right\", multiline=False, size_hint=(1, None), height=120) #creamos un objeto de la clase TextInput que va a ser la operación que estamos realizando mientras tecleamos\n",
    "        \n",
    "        main_layout = GridLayout(rows=3, padding=10, spacing=10) #creamos un objeto de la clase GridLayout que va a ser el layout principal de la calculadora\n",
    "        \n",
    "        main_layout.add_widget(self.current_input) #añadimos el objeto current_input al layout principal \n",
    "        main_layout.add_widget(self.solution) #añadimos el objeto solution al layout principal\n",
    "        \n",
    "        buttons = [ #creamos una lista de tuplas con el texto y el color de los botones, el color es una lista con los valores RGBA\n",
    "            (\"7\", [1, 1, 1, 1]), (\"8\", [1, 1, 1, 1]), (\"9\", [1, 1, 1, 1]), (\"/\", [0.7, 0.7, 0.7, 1]),\n",
    "            (\"4\", [1, 1, 1, 1]), (\"5\", [1, 1, 1, 1]), (\"6\", [1, 1, 1, 1]), (\"*\", [0.7, 0.7, 0.7, 1]),\n",
    "            (\"1\", [1, 1, 1, 1]), (\"2\", [1, 1, 1, 1]), (\"3\", [1, 1, 1, 1]), (\"-\", [0.7, 0.7, 0.7, 1]),\n",
    "            (\"C\", [1, 0, 0, 1]), (\"0\", [1, 1, 1, 1]), (\".\", [1, 1, 1, 1]), (\"+\", [0.7, 0.7, 0.7, 1]),\n",
    "            (\"sin\", [0.5, 0.5, 1, 1]), (\"cos\", [0.5, 0.5, 1, 1]), (\"tan\", [0.5, 0.5, 1, 1]), (\"√\", [0.5, 0.5, 1, 1]),\n",
    "            (\"^\", [0.7, 0.7, 0.7, 1]), (\"%\", [0.7, 0.7, 0.7, 1]), (\"=\", [0, 1, 0, 1])\n",
    "        ] #el boton C es de color rojo, el boton = es de color verde y el resto de botones son de color blanco\n",
    "        \n",
    "        # creamos un objeto de la clase GridLayout que va a ser el layout de los botones\n",
    "        button_grid = GridLayout(cols=4, spacing=10) # 4 columnas y un espacio de 10 entre los botones\n",
    "        \n",
    "        for (text, color) in buttons: # recorremos la lista de botones y creamos un objeto de la clase Button para cada uno de ellos\n",
    "            btn = Button(text=text, pos_hint={\"center_x\": 0.5, \"center_y\": 0.5}, background_color=color) #creamos un objeto de la clase Button con el texto y el color correspondiente\n",
    "            btn.bind(on_press=self.on_button_press) #asociamos el evento on_press al objeto btn con el metodo on_button_press\n",
    "            button_grid.add_widget(btn) #añadimos el objeto btn al layout de los botones\n",
    "        \n",
    "        main_layout.add_widget(button_grid) #añadimos el layout de los botones al layout principal \n",
    "        \n",
    "        return main_layout #devolvemos el layout principal de la calculadora\n",
    "\n",
    "    def on_button_press(self, instance): #creamos el metodo on_button_press que recibe el objeto que ha lanzado el evento on_press\n",
    "        current = self.current_input.text #obtenemos el texto del objeto current_input\n",
    "        button_text = instance.text #obtenemos el texto del objeto que ha lanzado el evento on_press\n",
    "\n",
    "        if button_text == \"C\": #si el texto del boton es C borramos el contenido de los objetos current_input y solution\n",
    "            self.current_input.text = \"\"\n",
    "            self.solution.text = \"\"\n",
    "        elif button_text == \"=\": #si el texto del boton es = evaluamos la operación que hay en current_input y mostramos el resultado en solution\n",
    "            try:\n",
    "                self.solution.text = str(eval(self.current_input.text)) \n",
    "            except Exception: #si se produce una excepción mostramos un mensaje de error\n",
    "                self.solution.text = \"Error\" \n",
    "        elif button_text == \"%\": #si el texto del boton es % dividimos el número que hay en current_input entre 100 y mostramos el resultado en solution\n",
    "            try:\n",
    "                self.solution.text = str(float(current) / 100)\n",
    "            except Exception:\n",
    "                self.solution.text = \"Error\"\n",
    "        elif button_text in self.operators: #si el texto del boton es un operador y el último boton pulsado no fue un operador añadimos el operador al objeto current_input\n",
    "            if self.last_was_operator is None:\n",
    "                self.current_input.text += button_text\n",
    "            elif self.last_was_operator: #si el último boton pulsado fue un operador sustituimos el último operador por el nuevo\n",
    "                return\n",
    "            else:\n",
    "                self.current_input.text += button_text\n",
    "            self.last_was_operator = True\n",
    "        elif button_text in [\"sin\", \"cos\", \"tan\", \"√\"]: #si el texto del boton es sin, cos, tan o √ calculamos el seno, coseno, tangente o raiz cuadrada del número que hay en current_input y mostramos el resultado en solution\n",
    "            try:\n",
    "                if button_text == \"sin\":\n",
    "                    self.solution.text = str(math.sin(math.radians(float(current))))\n",
    "                elif button_text == \"cos\":\n",
    "                    self.solution.text = str(math.cos(math.radians(float(current))))\n",
    "                elif button_text == \"tan\":\n",
    "                    self.solution.text = str(math.tan(math.radians(float(current))))\n",
    "                elif button_text == \"√\":\n",
    "                    self.solution.text = str(math.sqrt(float(current)))\n",
    "            except Exception:\n",
    "                self.solution.text = \"Error\"\n",
    "        else:   #si el texto del boton no es un operador ni un botón especial añadimos el texto del boton al objeto current_input\n",
    "            if current == \"0\":\n",
    "                self.current_input.text = button_text\n",
    "            else:\n",
    "                self.current_input.text += button_text\n",
    "            self.last_was_operator = False\n",
    "\n",
    "        self.current_input.text = self.current_input.text #actualizamos el texto del objeto current_input con el texto que acabamos de añadir\n",
    "        self.last_button = button_text #actualizamos el valor de la variable last_button con el texto del boton que acabamos de pulsar\n",
    "\n",
    "if __name__ == \"__main__\": #si el programa se ejecuta desde la consola\n",
    "    CalculatorApp().run() #creamos un objeto de la clase CalculatorApp y ejecutamos el metodo run de la clase App"
   ]
  }
 ],
 "metadata": {
  "kernelspec": {
   "display_name": "lab_env",
   "language": "python",
   "name": "python3"
  },
  "language_info": {
   "codemirror_mode": {
    "name": "ipython",
    "version": 3
   },
   "file_extension": ".py",
   "mimetype": "text/x-python",
   "name": "python",
   "nbconvert_exporter": "python",
   "pygments_lexer": "ipython3",
   "version": "3.9.13"
  }
 },
 "nbformat": 4,
 "nbformat_minor": 2
}
